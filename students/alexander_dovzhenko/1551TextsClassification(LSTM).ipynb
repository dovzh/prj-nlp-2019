{
 "cells": [
  {
   "cell_type": "markdown",
   "metadata": {},
   "source": [
    "## Prepare normalized texts"
   ]
  },
  {
   "cell_type": "code",
   "execution_count": 10,
   "metadata": {},
   "outputs": [],
   "source": [
    "import glob\n",
    "import numpy as np\n",
    "import re\n",
    "\n",
    "def get_claims_texts(fname):\n",
    "    with open(fname) as f:\n",
    "        all_claims_text = f.read()\n",
    "    return re.split(\"\\d{7}\", all_claims_text)\n",
    "\n",
    "claims_texts = {}\n",
    "for claim_fname in glob.glob(\"1551/*.txt\"):\n",
    "    cat_name = claim_fname[5:-4]\n",
    "    claims_texts[cat_name] = []\n",
    "    for claim_text in get_claims_texts(claim_fname):\n",
    "        claims_texts[cat_name].append(claim_text)\n",
    "\n",
    "\n",
    "import langid\n",
    "\n",
    "is_uk = lambda text: langid.classify(text)[0] == 'uk'\n",
    "\n",
    "for cat in claims_texts:\n",
    "    prev_len = len(claims_texts[cat])\n",
    "    claims_texts[cat] = [text for text in claims_texts[cat] if is_uk(text)]\n",
    "    #print(f'{cat}: {len(claims_texts[cat])}/{prev_len}')\n",
    "\n",
    "\n",
    "y2cat = list(claims_texts.keys())\n",
    "cat2y = lambda cat : y2cat.index(cat)\n",
    "\n",
    "\n",
    "import random\n",
    "\n",
    "TRAIN_SIZE = 0.7\n",
    "\n",
    "X_train_texts, Y_train = [], []\n",
    "X_test_texts, Y_test = [], []\n",
    "for cat in claims_texts:\n",
    "    y = cat2y(cat)\n",
    "    random.shuffle(claims_texts[cat])\n",
    "    train_size = int(len(claims_texts[cat]) * TRAIN_SIZE)\n",
    "    for i in range(train_size):\n",
    "        X_train_texts.append(claims_texts[cat][i])\n",
    "        Y_train.append(y)\n",
    "    for i in range(train_size, len(claims_texts[cat])):\n",
    "        X_test_texts.append(claims_texts[cat][i])\n",
    "        Y_test.append(y)\n",
    "\n",
    "\n",
    "from stop_words import get_stop_words\n",
    "import tokenize_uk\n",
    "import pymorphy2\n",
    "import re\n",
    "\n",
    "morph = pymorphy2.MorphAnalyzer(lang='uk')\n",
    "stop_words = get_stop_words('ukrainian')\n",
    "\n",
    "def text2norm_words(text):\n",
    "    words = tokenize_uk.tokenize_uk.tokenize_words(text)\n",
    "\n",
    "    # f1: 0.3 -> 0.36\n",
    "    words = [w for w in words if len(w) > 3]\n",
    "    words = [w for w in words if w.isalpha()]\n",
    "    words = [w.lower() for w in words]\n",
    "\n",
    "    # f1: 0.36 -> 0.39\n",
    "    words = [w for w in words if w not in stop_words]\n",
    "    words = [morph.parse(word)[0].normal_form for word in words]\n",
    "    #TODO: filter by POS\n",
    "\n",
    "    #words = list(set(words)) -> f1 -= 0.04\n",
    "    if not words:\n",
    "        words = ['']\n",
    "    return words\n",
    "\n",
    "X_train_texts = [text2norm_words(text) for text in X_train_texts]\n",
    "X_test_texts = [text2norm_words(text) for text in X_test_texts]"
   ]
  },
  {
   "cell_type": "code",
   "execution_count": 11,
   "metadata": {},
   "outputs": [],
   "source": [
    "import json\n",
    "with open('xy_texts.json', 'w') as f:\n",
    "    data = {'X_train_texts':X_train_texts, 'X_test_texts':X_test_texts, 'Y_train':Y_train, 'Y_test':Y_test}\n",
    "    json.dump(data, f)"
   ]
  },
  {
   "cell_type": "code",
   "execution_count": 8,
   "metadata": {},
   "outputs": [],
   "source": [
    "import json\n",
    "with open('xy_texts.json') as f:\n",
    "    data = json.load(f)\n",
    "\n",
    "train_texts = data['X_train_texts']\n",
    "test_texts  = data['X_test_texts']\n",
    "Y_train = data['Y_train']\n",
    "Y_test = data['Y_test']"
   ]
  },
  {
   "cell_type": "code",
   "execution_count": 11,
   "metadata": {},
   "outputs": [],
   "source": [
    "from gensim.models import KeyedVectors\n",
    "\n",
    "uk_vectors_file = 'news.lowercased.tokenized.word2vec.300d'\n",
    "uk_vectors = KeyedVectors.load_word2vec_format(uk_vectors_file, binary=False)\n",
    "\n",
    "word2vec = lambda word : np.array(uk_vectors[word]) if word in uk_vectors else np.zeros(300)\n",
    "\n",
    "def text2vecs(text):\n",
    "    return [word2vec(word) for word in text2norm_words(text)]\n",
    "\n",
    "train_vecs_sequences = [text2vecs(text) for text in train_texts]\n",
    "test_vecs_sequences = [text2vecs(text) for text in test_texts]"
   ]
  },
  {
   "cell_type": "markdown",
   "metadata": {},
   "source": [
    "## Baseline classifier\n",
    "Text -> average(words_vectors)"
   ]
  },
  {
   "cell_type": "code",
   "execution_count": 12,
   "metadata": {},
   "outputs": [],
   "source": [
    "import numpy as np\n",
    "\n",
    "def average_sequence(sequence, first_n):\n",
    "    res = np.zeros(300)\n",
    "    for i in range(min(len(sequence), first_n)):\n",
    "        res = np.add(res, sequence[i])\n",
    "    return res\n",
    "\n",
    "def vectorize_sequences(train_vecs):\n",
    "    results = np.zeros((len(train_vecs), len(train_vecs[0])))\n",
    "    for i, train_vec in enumerate(train_vecs):\n",
    "        results[i] = train_vec\n",
    "    return results\n",
    "\n",
    "FIRST_N = 20\n",
    "X_train = vectorize_sequences([average_sequence(vecs_sequence, FIRST_N) for vecs_sequence in train_vecs_sequences])\n",
    "X_test = vectorize_sequences([average_sequence(vecs_sequence, FIRST_N) for vecs_sequence in test_vecs_sequences])\n",
    "\n",
    "Y_train = np.asarray(Y_train).astype('float32')\n",
    "Y_test = np.asarray(Y_test).astype('float32')"
   ]
  },
  {
   "cell_type": "code",
   "execution_count": 15,
   "metadata": {},
   "outputs": [],
   "source": [
    "import tensorflow as tf\n",
    "from tensorflow import keras\n",
    "from tensorflow.keras import regularizers\n",
    "\n",
    "model = keras.Sequential([\n",
    "    keras.layers.Dense(50, activation='relu', input_shape=(300,)),\n",
    "    keras.layers.Dense(188, activation='softmax')\n",
    "])\n",
    "\n",
    "model.compile(optimizer='adam', \n",
    "              loss='sparse_categorical_crossentropy',\n",
    "              metrics=['accuracy'])\n",
    "\n",
    "#model.fit(X_train, Y_train, epochs=5)"
   ]
  },
  {
   "cell_type": "markdown",
   "metadata": {},
   "source": [
    "### Select optimal params\n",
    "model.evaluate(X_test, Y_test):\n",
    "* layer_size = 20, FIRST_N=5:  acc=0.33\n",
    "* layer_size = 20, FIRST_N=10: acc=0.42\n",
    "* layer_size = 20, FIRST_N=20: acc=0.43\n",
    "* layer_size = 20, FIRST_N=50: acc=0.41\n",
    "* layer_size = 20, FIRST_N=1000: acc=0.40\n",
    "\n",
    "\n",
    "* FIRST_N=20, layer_size = 20: acc=0.43\n",
    "* FIRST_N=20, layer_size = 50: acc=0.46\n",
    "* FIRST_N=20, layer_size = 100: acc=0.47"
   ]
  },
  {
   "cell_type": "markdown",
   "metadata": {},
   "source": [
    "## LSTM-based classifier\n",
    "Let's change first layer for previous network"
   ]
  },
  {
   "cell_type": "code",
   "execution_count": 16,
   "metadata": {},
   "outputs": [],
   "source": [
    "def vectorize_sequences(X, new_x_len):\n",
    "    def alighn(vecs, new_len):\n",
    "        res = np.zeros((new_len, 300))\n",
    "        for i in range(min(new_len, len(vecs))):\n",
    "            for j in range(300):\n",
    "                res[i][j] = vecs[i][j]\n",
    "        return res\n",
    "\n",
    "    results = np.zeros((len(X), new_x_len, 300))\n",
    "    for i in range(len(X)):\n",
    "        results[i] = alighn(X[i], new_x_len)\n",
    "    return results"
   ]
  },
  {
   "cell_type": "code",
   "execution_count": 17,
   "metadata": {},
   "outputs": [],
   "source": [
    "X_train = vectorize_sequences(train_vecs_sequences , 20)\n",
    "X_test = vectorize_sequences(test_vecs_sequences, 20)"
   ]
  },
  {
   "cell_type": "code",
   "execution_count": 21,
   "metadata": {
    "scrolled": true
   },
   "outputs": [
    {
     "name": "stdout",
     "output_type": "stream",
     "text": [
      "Train on 35035 samples, validate on 8759 samples\n",
      "Epoch 1/5\n",
      "35035/35035 [==============================] - 70s 2ms/sample - loss: 3.9633 - acc: 0.2007 - val_loss: 8.1679 - val_acc: 0.3084\n",
      "Epoch 2/5\n",
      "35035/35035 [==============================] - 60s 2ms/sample - loss: 3.0291 - acc: 0.3414 - val_loss: 9.2652 - val_acc: 0.2648\n",
      "Epoch 3/5\n",
      "35035/35035 [==============================] - 59s 2ms/sample - loss: 2.6762 - acc: 0.4064 - val_loss: 10.1169 - val_acc: 0.2763\n",
      "Epoch 4/5\n",
      "35035/35035 [==============================] - 58s 2ms/sample - loss: 2.4613 - acc: 0.4495 - val_loss: 10.4779 - val_acc: 0.2817\n",
      "Epoch 5/5\n",
      "35035/35035 [==============================] - 58s 2ms/sample - loss: 2.3067 - acc: 0.4787 - val_loss: 10.6892 - val_acc: 0.2848\n"
     ]
    }
   ],
   "source": [
    "model = keras.Sequential([\n",
    "    keras.layers.LSTM(32, input_shape=(20, 300)),\n",
    "    keras.layers.Dense(50, activation='relu', kernel_regularizer=regularizers.l2(0.01), activity_regularizer=regularizers.l1(0.01)),\n",
    "    keras.layers.Dense(188, activation='softmax')\n",
    "])\n",
    "\n",
    "model.compile(optimizer='adam', \n",
    "              loss='sparse_categorical_crossentropy',\n",
    "              metrics=['accuracy'])\n",
    "\n",
    "history = model.fit(X_train, Y_train, epochs=5, validation_split=0.2)"
   ]
  },
  {
   "cell_type": "code",
   "execution_count": 22,
   "metadata": {},
   "outputs": [
    {
     "name": "stdout",
     "output_type": "stream",
     "text": [
      "18886/18886 [==============================] - 12s 640us/sample - loss: 4.0491 - acc: 0.4289\n"
     ]
    },
    {
     "data": {
      "text/plain": [
       "[4.049109916319398, 0.42894208]"
      ]
     },
     "execution_count": 22,
     "metadata": {},
     "output_type": "execute_result"
    }
   ],
   "source": [
    "model.evaluate(X_test, Y_test)"
   ]
  },
  {
   "cell_type": "markdown",
   "metadata": {},
   "source": [
    "### Also where tested in LSTM network:\n",
    "* dropout and recurrent_dropout in LSTM layer\n",
    "* dropout in dense layers\n",
    "* units in dense and LSTM layers\n",
    "* bigger train sequence(FIRST_N)\n",
    "* no hidden layer\n",
    "\n",
    "All this approaches gave similar performance"
   ]
  },
  {
   "cell_type": "code",
   "execution_count": null,
   "metadata": {},
   "outputs": [],
   "source": []
  }
 ],
 "metadata": {
  "kernelspec": {
   "display_name": "Python 3",
   "language": "python",
   "name": "python3"
  },
  "language_info": {
   "codemirror_mode": {
    "name": "ipython",
    "version": 3
   },
   "file_extension": ".py",
   "mimetype": "text/x-python",
   "name": "python",
   "nbconvert_exporter": "python",
   "pygments_lexer": "ipython3",
   "version": "3.6.8"
  }
 },
 "nbformat": 4,
 "nbformat_minor": 2
}
